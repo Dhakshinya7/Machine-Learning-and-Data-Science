{
 "cells": [
  {
   "cell_type": "code",
   "execution_count": 9,
   "id": "5aa71685",
   "metadata": {},
   "outputs": [],
   "source": [
    "import random as rd\n",
    "import math\n",
    "import matplotlib.pyplot as plt\n",
    "import pandas as pd\n",
    "import numpy as np"
   ]
  },
  {
   "cell_type": "code",
   "execution_count": null,
   "id": "06793c89",
   "metadata": {},
   "outputs": [],
   "source": [
    "dataset=pd.read_csv('encounter.csv')\n",
    "dataset.describe()"
   ]
  },
  {
   "cell_type": "code",
   "execution_count": 4,
   "id": "0db0ebbd",
   "metadata": {},
   "outputs": [],
   "source": [
    "X = dataset.iloc[:, [13, 14]].values"
   ]
  },
  {
   "cell_type": "code",
   "execution_count": 5,
   "id": "207cf1ae",
   "metadata": {},
   "outputs": [],
   "source": [
    "m=X.shape[0] #number of training examples\n",
    "n=X.shape[1] #number of features. Here n=2\n",
    "n_iter=100"
   ]
  },
  {
   "cell_type": "code",
   "execution_count": 6,
   "id": "ffd5efa7",
   "metadata": {},
   "outputs": [],
   "source": [
    "K=5"
   ]
  },
  {
   "cell_type": "code",
   "execution_count": 7,
   "id": "2bf949a9",
   "metadata": {},
   "outputs": [],
   "source": [
    "Centroids=np.array([]).reshape(n,0) "
   ]
  },
  {
   "cell_type": "code",
   "execution_count": 10,
   "id": "cb8ace7f",
   "metadata": {},
   "outputs": [],
   "source": [
    "for i in range(K):\n",
    "    rand=rd.randint(0,m-1)\n",
    "    Centroids=np.c_[Centroids,X[rand]]"
   ]
  },
  {
   "cell_type": "code",
   "execution_count": 11,
   "id": "5748f5d0",
   "metadata": {},
   "outputs": [],
   "source": [
    "Output={}"
   ]
  },
  {
   "cell_type": "code",
   "execution_count": 22,
   "id": "d8a2ee9c",
   "metadata": {},
   "outputs": [],
   "source": [
    "euc_dist=np.array([]).reshape(m,0)"
   ]
  },
  {
   "cell_type": "code",
   "execution_count": null,
   "id": "7ce7cf74",
   "metadata": {},
   "outputs": [],
   "source": [
    "for i in range(k):\n",
    "    centroids[i] = X[i]"
   ]
  },
  {
   "cell_type": "code",
   "execution_count": null,
   "id": "5e6d777b",
   "metadata": {},
   "outputs": [],
   "source": [
    "for data in X:\n",
    "    euc_dist = []\n",
    "    for j in range(k):\n",
    "        euc_dist.append(np.linalg.norm(data - centroids[j]))"
   ]
  },
  {
   "cell_type": "code",
   "execution_count": null,
   "id": "7055c783",
   "metadata": {},
   "outputs": [],
   "source": [
    "C=np.argmin(EuclidianDistance,axis=1)+1"
   ]
  },
  {
   "cell_type": "code",
   "execution_count": null,
   "id": "259c1e7b",
   "metadata": {},
   "outputs": [],
   "source": [
    "Y={}\n",
    "for k in range(K):\n",
    "    Y[k+1]=np.array([]).reshape(2,0)\n",
    "for i in range(m):\n",
    "    Y[C[i]]=np.c_[Y[C[i]],X[i]]\n",
    "     \n",
    "for k in range(K):\n",
    "    Y[k+1]=Y[k+1].T\n",
    "    \n",
    "for k in range(K):\n",
    "     Centroids[:,k]=np.mean(Y[k+1],axis=0)"
   ]
  },
  {
   "cell_type": "code",
   "execution_count": null,
   "id": "fede8c00",
   "metadata": {},
   "outputs": [],
   "source": [
    "for i in range(n_iter):\n",
    "     #step 2.a\n",
    "      EuclidianDistance=np.array([]).reshape(m,0)\n",
    "      for k in range(K):\n",
    "          tempDist=np.sum((X-Centroids[:,k])**2,axis=1)\n",
    "          EuclidianDistance=np.c_[EuclidianDistance,tempDist]\n",
    "      C=np.argmin(EuclidianDistance,axis=1)+1\n",
    "     #step 2.b\n",
    "      Y={}\n",
    "      for k in range(K):\n",
    "          Y[k+1]=np.array([]).reshape(2,0)\n",
    "      for i in range(m):\n",
    "          Y[C[i]]=np.c_[Y[C[i]],X[i]]\n",
    "     \n",
    "      for k in range(K):\n",
    "          Y[k+1]=Y[k+1].T\n",
    "    \n",
    "      for k in range(K):\n",
    "          Centroids[:,k]=np.mean(Y[k+1],axis=0)\n",
    "      Output=Y"
   ]
  },
  {
   "cell_type": "code",
   "execution_count": null,
   "id": "617ac92c",
   "metadata": {},
   "outputs": [],
   "source": [
    "plt.scatter(X[:,0],X[:,1],c='black',label='unclustered data')\n",
    "plt.xlabel('Income')\n",
    "plt.ylabel('Number of transactions')\n",
    "plt.legend()\n",
    "plt.title('Plot of data points')\n",
    "plt.show()"
   ]
  },
  {
   "cell_type": "code",
   "execution_count": null,
   "id": "c622f33f",
   "metadata": {},
   "outputs": [],
   "source": [
    "color=['red','blue','green','cyan','magenta']\n",
    "labels=['cluster1','cluster2','cluster3','cluster4','cluster5']\n",
    "for k in range(K):\n",
    "    plt.scatter(Output[k+1][:,0],Output[k+1][:,1],c=color[k],label=labels[k])\n",
    "plt.scatter(Centroids[0,:],Centroids[1,:],s=300,c='yellow',label='Centroids')\n",
    "plt.xlabel('Income')\n",
    "plt.ylabel('Number of transactions')\n",
    "plt.legend()\n",
    "plt.show()"
   ]
  },
  {
   "cell_type": "code",
   "execution_count": null,
   "id": "d374bd51",
   "metadata": {},
   "outputs": [],
   "source": [
    "WCSS_array=np.array([])\n",
    "for K in range(1,11):\n",
    "    kmeans=Kmeans(X,K)\n",
    "    kmeans.fit(n_iter)\n",
    "    Output,Centroids=kmeans.predict()\n",
    "    wcss=0\n",
    "    for k in range(K):\n",
    "        wcss+=np.sum((Output[k+1]-Centroids[k,:])**2)\n",
    "    WCSS_array=np.append(WCSS_array,wcss)"
   ]
  },
  {
   "cell_type": "code",
   "execution_count": null,
   "id": "8f0eea68",
   "metadata": {},
   "outputs": [],
   "source": [
    "K_array=np.arange(1,11,1)\n",
    "plt.plot(K_array,WCSS_array)\n",
    "plt.xlabel('Number of Clusters')\n",
    "plt.ylabel('within-cluster sums of squares (WCSS)')\n",
    "plt.title('Elbow method to determine optimum number of clusters')\n",
    "plt.show()"
   ]
  },
  {
   "cell_type": "code",
   "execution_count": null,
   "id": "1417ef82",
   "metadata": {},
   "outputs": [],
   "source": [
    "i=rd.randint(0,X.shape[0])\n",
    "Centroid=np.array([X[i]])"
   ]
  },
  {
   "cell_type": "code",
   "execution_count": null,
   "id": "adfb44d6",
   "metadata": {},
   "outputs": [],
   "source": [
    "D=np.array([]) \n",
    "for x in X:\n",
    "    D=np.append(D,np.min(np.sum((x-Centroid)**2)))"
   ]
  },
  {
   "cell_type": "code",
   "execution_count": null,
   "id": "8b65d425",
   "metadata": {},
   "outputs": [],
   "source": [
    "prob=D/np.sum(D)\n",
    "cummulative_prob=np.cumsum(prob)"
   ]
  },
  {
   "cell_type": "code",
   "execution_count": null,
   "id": "581be060",
   "metadata": {},
   "outputs": [],
   "source": [
    "r=rd.random()\n",
    "i=0\n",
    "for j,p in enumerate(cummulative_prob):\n",
    "    if r<p:\n",
    "       i=j\n",
    "       break\n",
    "Centroid=np.append(Centroid,[X[i]],axis=0)"
   ]
  },
  {
   "cell_type": "code",
   "execution_count": null,
   "id": "0d00b2a6",
   "metadata": {},
   "outputs": [],
   "source": [
    "i=rd.randint(0,X.shape[0])\n",
    "Centroid=np.array([X[i]])\n",
    "K=5\n",
    "for k in range(1,K):\n",
    "    D=np.array([]) \n",
    "    for x in X:\n",
    "        D=np.append(D,np.min(np.sum((x-Centroid)**2)))\n",
    "    prob=D/np.sum(D)\n",
    "    cummulative_prob=np.cumsum(prob)\n",
    "    r=rd.random()\n",
    "    i=0\n",
    "    for j,p in enumerate(cummulative_prob):\n",
    "        if r<p:\n",
    "            i=j\n",
    "            break\n",
    "    Centroid=np.append(Centroid,[X[i]],axis=0)"
   ]
  },
  {
   "cell_type": "code",
   "execution_count": null,
   "id": "51f235eb",
   "metadata": {},
   "outputs": [],
   "source": [
    "for i in range(K):\n",
    "    rand=rd.randint(0,m-1)\n",
    "    Centroids_rand=np.c_[Centroids_rand,X[rand]]\n",
    "plt.scatter(X[:,0],X[:,1])\n",
    "plt.scatter(Centroid_temp[:,0],Centroid_temp[:,1],s=200,color='yellow')\n",
    "plt.scatter(Centroids_rand[0,:],Centroids_rand[1,:],s=300,color='black')"
   ]
  },
  {
   "cell_type": "code",
   "execution_count": null,
   "id": "669941e4",
   "metadata": {},
   "outputs": [],
   "source": [
    "#lets implement the same algorithm using sklearn libraries\n",
    "# Using the elbow method to find the optimal number of clusters\n",
    "from sklearn.cluster import KMeans\n",
    "wcss = []\n",
    "for i in range(1, 11):\n",
    "    kmeans = KMeans(n_clusters = i, init = 'k-means++', random_state = 42)\n",
    "    kmeans.fit(X)\n",
    "    wcss.append(kmeans.inertia_)\n",
    "plt.plot(range(1, 11), wcss)\n",
    "plt.title('The Elbow Method')\n",
    "plt.xlabel('Number of clusters')\n",
    "plt.ylabel('WCSS')\n",
    "plt.show()"
   ]
  },
  {
   "cell_type": "code",
   "execution_count": null,
   "id": "7536c4b3",
   "metadata": {},
   "outputs": [],
   "source": [
    "# Fitting K-Means to the dataset\n",
    "kmeans = KMeans(n_clusters = 5, init = 'k-means++', random_state = 42)\n",
    "y_kmeans = kmeans.fit_predict(X)\n",
    "# Visualising the clusters\n",
    "plt.scatter(X[y_kmeans == 0, 0], X[y_kmeans == 0, 1], s = 100, c = 'red', label = 'Cluster 1')\n",
    "plt.scatter(X[y_kmeans == 1, 0], X[y_kmeans == 1, 1], s = 100, c = 'blue', label = 'Cluster 2')\n",
    "plt.scatter(X[y_kmeans == 2, 0], X[y_kmeans == 2, 1], s = 100, c = 'green', label = 'Cluster 3')\n",
    "plt.scatter(X[y_kmeans == 3, 0], X[y_kmeans == 3, 1], s = 100, c = 'cyan', label = 'Cluster 4')\n",
    "plt.scatter(X[y_kmeans == 4, 0], X[y_kmeans == 4, 1], s = 100, c = 'magenta', label = 'Cluster 5')\n",
    "plt.scatter(kmeans.cluster_centers_[:, 0], kmeans.cluster_centers_[:, 1], s = 300, c = 'yellow', label = 'Centroids')\n",
    "plt.title('Clusters of customers')\n",
    "plt.xlabel('Annual Income (k$)')\n",
    "plt.ylabel('Spending Score (1-100)')\n",
    "plt.legend()\n",
    "plt.show()"
   ]
  },
  {
   "cell_type": "code",
   "execution_count": null,
   "id": "aef022a3",
   "metadata": {},
   "outputs": [],
   "source": []
  }
 ],
 "metadata": {
  "kernelspec": {
   "display_name": "Python 3",
   "language": "python",
   "name": "python3"
  },
  "language_info": {
   "codemirror_mode": {
    "name": "ipython",
    "version": 3
   },
   "file_extension": ".py",
   "mimetype": "text/x-python",
   "name": "python",
   "nbconvert_exporter": "python",
   "pygments_lexer": "ipython3",
   "version": "3.8.8"
  }
 },
 "nbformat": 4,
 "nbformat_minor": 5
}
